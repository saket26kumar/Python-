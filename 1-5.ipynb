{
 "cells": [
  {
   "cell_type": "code",
   "execution_count": 32,
   "id": "73f46a4c",
   "metadata": {},
   "outputs": [
    {
     "name": "stdout",
     "output_type": "stream",
     "text": [
      "Hello my name is Saket Kumar\n"
     ]
    }
   ],
   "source": [
    "print(\"Hello my name is Saket Kumar\")"
   ]
  },
  {
   "cell_type": "markdown",
   "id": "c173fd3b",
   "metadata": {},
   "source": [
    "# 1Write a Python program to display the current date and time \n",
    "\n"
   ]
  },
  {
   "cell_type": "code",
   "execution_count": 18,
   "id": "ebbbf09c",
   "metadata": {},
   "outputs": [
    {
     "name": "stdout",
     "output_type": "stream",
     "text": [
      "current date and time  :\n",
      "21-11-21 01:27:42\n"
     ]
    }
   ],
   "source": [
    "import datetime\n",
    "now= datetime.datetime.now()\n",
    "print(\"current date and time  :\")\n",
    "print(now.strftime(\"%y-%m-%d %H:%M:%S\"))"
   ]
  },
  {
   "cell_type": "markdown",
   "id": "7e6cb0db",
   "metadata": {},
   "source": [
    "# 2 Write a Python program which accepts the radius of a circle from the user and compute the area."
   ]
  },
  {
   "cell_type": "code",
   "execution_count": 22,
   "id": "7c4902cf",
   "metadata": {},
   "outputs": [
    {
     "name": "stdout",
     "output_type": "stream",
     "text": [
      "3.7994000000000008\n"
     ]
    },
    {
     "data": {
      "text/plain": [
       "4"
      ]
     },
     "execution_count": 22,
     "metadata": {},
     "output_type": "execute_result"
    }
   ],
   "source": [
    "import math\n",
    "r=1.1\n",
    "area=3.14*r*r\n",
    "\n",
    "print (area)\n",
    "round(area)"
   ]
  },
  {
   "cell_type": "code",
   "execution_count": 23,
   "id": "b94ce272",
   "metadata": {},
   "outputs": [
    {
     "name": "stdout",
     "output_type": "stream",
     "text": [
      "enter the value : 1.1\n",
      "3.8013271108436504\n"
     ]
    }
   ],
   "source": [
    "from math import pi\n",
    "radius=float(input(\"enter the value : \"))\n",
    "area=pi*r**2\n",
    "print (area)"
   ]
  },
  {
   "cell_type": "markdown",
   "id": "b10c7c0e",
   "metadata": {},
   "source": [
    "# 3. Write a Python program which accepts the user's first and last name and print them in reverse order with a space between them"
   ]
  },
  {
   "cell_type": "code",
   "execution_count": 31,
   "id": "9879b40b",
   "metadata": {},
   "outputs": [
    {
     "name": "stdout",
     "output_type": "stream",
     "text": [
      "enter the first name: Saket\n",
      "enter the last name: Kumar\n",
      "Hello Kumar Saket\n"
     ]
    }
   ],
   "source": [
    "first_name=input(\"enter the first name: \")\n",
    "last_name=input(\"enter the last name: \")\n",
    "print(\"Hello \" + last_name +\" \" + first_name)"
   ]
  },
  {
   "cell_type": "markdown",
   "id": "72814152",
   "metadata": {},
   "source": [
    "# 4. Write a Python program which accepts a sequence of comma-separated numbers from user and generate a list and a tuple with those numbers\n",
    "Sample data : 3, 5, 7, 23"
   ]
  },
  {
   "cell_type": "code",
   "execution_count": 41,
   "id": "7ff55244",
   "metadata": {},
   "outputs": [
    {
     "name": "stdout",
     "output_type": "stream",
     "text": [
      "list :  [3, 5, 7, 23]\n",
      "tuple :  (3, 5, 7, 23)\n"
     ]
    }
   ],
   "source": [
    "list1=[3,5,7,23]\n",
    "tuple1=tuple(list1)\n",
    "print('list : ' ,list1)\n",
    "print('tuple : ' ,tuple1)"
   ]
  },
  {
   "cell_type": "code",
   "execution_count": 46,
   "id": "bf33c791",
   "metadata": {},
   "outputs": [
    {
     "name": "stdout",
     "output_type": "stream",
     "text": [
      "enter comma seperated numbers :3,5,7,23\n",
      "list :  ['3', '5', '7', '23']\n",
      "tuple :  ('3', '5', '7', '23')\n"
     ]
    }
   ],
   "source": [
    "sample_data=input(\"enter comma seperated numbers :\")\n",
    "list1=sample_data.split(\",\")\n",
    "tuple1=tuple(list1)\n",
    "print('list : ' ,list1)\n",
    "print('tuple : ' ,tuple1)"
   ]
  },
  {
   "cell_type": "markdown",
   "id": "20f82047",
   "metadata": {},
   "source": [
    "# 5. Write a Python program to accept a filename from the user and print the extension of that.\n",
    "Sample filename : abc.java"
   ]
  },
  {
   "cell_type": "code",
   "execution_count": 62,
   "id": "899748ca",
   "metadata": {},
   "outputs": [
    {
     "name": "stdout",
     "output_type": "stream",
     "text": [
      "input the filename : abc.java\n",
      "The extension of the file is : 'java'\n"
     ]
    }
   ],
   "source": [
    "input(\"input the filename : \")\n",
    "ext=filename.split(\".\") \n",
    "print(\"The extension of the file is : \" + repr(ext[-1]))   "
   ]
  }
 ],
 "metadata": {
  "kernelspec": {
   "display_name": "Python 3",
   "language": "python",
   "name": "python3"
  },
  "language_info": {
   "codemirror_mode": {
    "name": "ipython",
    "version": 3
   },
   "file_extension": ".py",
   "mimetype": "text/x-python",
   "name": "python",
   "nbconvert_exporter": "python",
   "pygments_lexer": "ipython3",
   "version": "3.8.8"
  }
 },
 "nbformat": 4,
 "nbformat_minor": 5
}
