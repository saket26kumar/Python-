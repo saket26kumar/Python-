{
 "cells": [
  {
   "cell_type": "markdown",
   "id": "c8c9db5a",
   "metadata": {},
   "source": [
    "16. Write a Python program to print all even numbers from a given numbers list in the same order and stop the printing if any numbers that come after 237 in the sequence. Go to the editor\n",
    "Sample numbers list :\n",
    "\n",
    "numbers = [    \n",
    "    386, 462, 47, 418, 907, 344, 236, 375, 823, 566, 597, 978, 328, 615, 953, 345, \n",
    "    399, 162, 758, 219, 918, 237, 412, 566, 826, 248, 866, 950, 626, 949, 687, 217, \n",
    "    815, 67, 104, 58, 512, 24, 892, 894, 767, 553, 81, 379, 843, 831, 445, 742, 717, \n",
    "    958,743, 527\n",
    "    ]"
   ]
  },
  {
   "cell_type": "code",
   "execution_count": 3,
   "id": "fd5742b8",
   "metadata": {},
   "outputs": [
    {
     "name": "stdout",
     "output_type": "stream",
     "text": [
      "386\n",
      "462\n",
      "418\n",
      "344\n",
      "236\n",
      "566\n",
      "978\n",
      "328\n",
      "162\n",
      "758\n",
      "918\n",
      "237\n"
     ]
    }
   ],
   "source": [
    "numbers = [386, 462, 47, 418, 907, 344, 236, 375, 823, 566, 597, 978, 328, 615, 953, 345, 399, 162, 758, 219, 918, 237, 412, 566, 826, 248, 866, 950, 626, 949, 687, 217, 815, 67, 104, 58, 512, 24, 892, 894, 767, 553, 81, 379, 843, 831, 445, 742, 717, 958,743, 527 ]\n",
    "for x in numbers:\n",
    "    if x==237:\n",
    "        print(x)\n",
    "        break;\n",
    "    elif x%2==0:\n",
    "        print(x)\n",
    "    "
   ]
  },
  {
   "cell_type": "markdown",
   "id": "0c565995",
   "metadata": {},
   "source": [
    "17. Write a Python program to sum of three given integers. However, if two values are equal sum will be zero."
   ]
  },
  {
   "cell_type": "code",
   "execution_count": 6,
   "id": "ac3345b9",
   "metadata": {},
   "outputs": [
    {
     "name": "stdout",
     "output_type": "stream",
     "text": [
      "0\n",
      "0\n",
      "6\n"
     ]
    }
   ],
   "source": [
    "def sum(x,y,z):\n",
    "    if x==y or y==z or z==x:\n",
    "        sum=0\n",
    "    else :\n",
    "        sum=x+y+z\n",
    "    return sum\n",
    "print (sum(1,2,2))\n",
    "print (sum(5,5,5))\n",
    "print (sum(1,2,3))"
   ]
  },
  {
   "cell_type": "markdown",
   "id": "623ceb36",
   "metadata": {},
   "source": [
    "18.Write a Python program to sum of two given integers. However, if the sum is between 15 to 20 it will return 20."
   ]
  },
  {
   "cell_type": "code",
   "execution_count": 18,
   "id": "7e99ef27",
   "metadata": {},
   "outputs": [
    {
     "name": "stdout",
     "output_type": "stream",
     "text": [
      "20\n",
      "23\n"
     ]
    }
   ],
   "source": [
    "def sum(x,y):\n",
    "    sum=x+y\n",
    "    if sum in range(15,20):\n",
    "        return 20\n",
    "    else:\n",
    "        return sum\n",
    "print(sum(9,8))\n",
    "print(sum(15,8))"
   ]
  },
  {
   "cell_type": "markdown",
   "id": "b748cc89",
   "metadata": {},
   "source": [
    "19.Write a Python program that will return true if the two given integer values are equal or their sum or difference is 5"
   ]
  },
  {
   "cell_type": "code",
   "execution_count": 27,
   "id": "2aca9e59",
   "metadata": {},
   "outputs": [
    {
     "name": "stdout",
     "output_type": "stream",
     "text": [
      "True\n",
      "True\n",
      "True\n"
     ]
    }
   ],
   "source": [
    "def true(x,y):\n",
    "    if x==y or (x+y)==5 or (x-y)==5:\n",
    "        return True\n",
    "    else:\n",
    "        return False\n",
    "print(true(5,5))\n",
    "print(true(3,2))\n",
    "print(true(8,3))"
   ]
  },
  {
   "cell_type": "code",
   "execution_count": null,
   "id": "3cba6508",
   "metadata": {},
   "outputs": [],
   "source": []
  }
 ],
 "metadata": {
  "kernelspec": {
   "display_name": "Python 3",
   "language": "python",
   "name": "python3"
  },
  "language_info": {
   "codemirror_mode": {
    "name": "ipython",
    "version": 3
   },
   "file_extension": ".py",
   "mimetype": "text/x-python",
   "name": "python",
   "nbconvert_exporter": "python",
   "pygments_lexer": "ipython3",
   "version": "3.8.8"
  }
 },
 "nbformat": 4,
 "nbformat_minor": 5
}
