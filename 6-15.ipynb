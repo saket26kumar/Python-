{
 "cells": [
  {
   "cell_type": "markdown",
   "id": "56cc50bc",
   "metadata": {},
   "source": [
    " 6.Write a Python program to display the first and last colors from the following list. \n",
    "color_list = [\"Red\",\"Green\",\"White\" ,\"Black\"]\n",
    "\n"
   ]
  },
  {
   "cell_type": "code",
   "execution_count": 1,
   "id": "ecdff4f4",
   "metadata": {},
   "outputs": [
    {
     "name": "stdout",
     "output_type": "stream",
     "text": [
      "('Red', 'Black')\n"
     ]
    }
   ],
   "source": [
    "color_list = [\"Red\",\"Green\",\"White\" ,\"Black\"]\n",
    "print((color_list[0],color_list[-1])) "
   ]
  },
  {
   "cell_type": "code",
   "execution_count": 2,
   "id": "c44ab3eb",
   "metadata": {},
   "outputs": [
    {
     "name": "stdout",
     "output_type": "stream",
     "text": [
      "Red Black\n"
     ]
    }
   ],
   "source": [
    "color_list = [\"Red\",\"Green\",\"White\" ,\"Black\"]\n",
    "print(\"%s %s\"%(color_list[0],color_list[-1]))"
   ]
  },
  {
   "cell_type": "markdown",
   "id": "3d770457",
   "metadata": {},
   "source": [
    "7.Write a Python program to display the examination schedule. (extract the date from exam_st_date). \n",
    "exam_st_date = (11, 12, 2014)"
   ]
  },
  {
   "cell_type": "code",
   "execution_count": 3,
   "id": "28ae5187",
   "metadata": {},
   "outputs": [
    {
     "name": "stdout",
     "output_type": "stream",
     "text": [
      "Exam starts from : 11 / 12 /2014\n"
     ]
    }
   ],
   "source": [
    "exam_st_date = (11, 12, 2014)\n",
    "print(\"Exam starts from : %i / %i /%i\" %exam_st_date)"
   ]
  },
  {
   "cell_type": "markdown",
   "id": "982018e9",
   "metadata": {},
   "source": [
    " 8.Write a Python program that accepts an integer (n) and computes the value of n+nn+nnn. \n",
    "Sample value of n is 5\n",
    "Expected Result : 615"
   ]
  },
  {
   "cell_type": "code",
   "execution_count": 4,
   "id": "84371a55",
   "metadata": {},
   "outputs": [
    {
     "name": "stdout",
     "output_type": "stream",
     "text": [
      "Enter a number : 5\n",
      "55\n",
      "615\n"
     ]
    }
   ],
   "source": [
    "a=input(input(\"Enter a number : \"))\n",
    "a1=int(\"%s\"%(a))\n",
    "a2=int(\"%s%s\"%(a,a))\n",
    "a3=int(\"%s%s%s\"%(a,a,a))\n",
    "print(a1+a2+a3)"
   ]
  },
  {
   "cell_type": "markdown",
   "id": "3a8e37cc",
   "metadata": {},
   "source": [
    "9. Write a Python program to calculate number of days between two dates.\n",
    "Sample dates : (2014, 7, 2), (2014, 7, 11)\n",
    "Expected output : 9 days"
   ]
  },
  {
   "cell_type": "code",
   "execution_count": 5,
   "id": "2b188c60",
   "metadata": {},
   "outputs": [
    {
     "name": "stdout",
     "output_type": "stream",
     "text": [
      "9\n"
     ]
    }
   ],
   "source": [
    "from datetime import date\n",
    "start_date= date(2014,7,2)\n",
    "end_date=date(2014,7,11)\n",
    "difference=end_date-start_date\n",
    "print(difference.days)"
   ]
  },
  {
   "cell_type": "markdown",
   "id": "a9ca3e9c",
   "metadata": {},
   "source": [
    " 10.Write a Python program to calculate the sum of three given numbers, if the values are equal then return three times of their sum"
   ]
  },
  {
   "cell_type": "code",
   "execution_count": 13,
   "id": "847c5d48",
   "metadata": {},
   "outputs": [
    {
     "name": "stdout",
     "output_type": "stream",
     "text": [
      "6\n",
      "45\n"
     ]
    }
   ],
   "source": [
    "def sum_thrice(x,y,z):\n",
    "    sum = x+y+z\n",
    "    if x == y == z:\n",
    "        sum =sum*3\n",
    "    return sum\n",
    "print(sum_thrice(1,2,3))\n",
    "print(sum_thrice(5,5,5))\n"
   ]
  },
  {
   "cell_type": "markdown",
   "id": "066d5597",
   "metadata": {},
   "source": [
    "11.Write a Python program to get a new string from a given string where \"Is\" has been added to the front. \n",
    "If the given string already begins with \"Is\" then return the string unchanged."
   ]
  },
  {
   "cell_type": "code",
   "execution_count": 18,
   "id": "cb5013ff",
   "metadata": {},
   "outputs": [
    {
     "name": "stdout",
     "output_type": "stream",
     "text": [
      "is string\n",
      "is empty\n"
     ]
    }
   ],
   "source": [
    "def new_string(str):\n",
    "    if len(str) >=2 and str[:2]==\"is\":\n",
    "        return str\n",
    "    return \"is\" + \" \"+ str\n",
    "print(new_string (\"string\"))\n",
    "print(new_string(\"is empty\"))"
   ]
  },
  {
   "cell_type": "markdown",
   "id": "eb1b55e4",
   "metadata": {},
   "source": [
    "12.Write a Python program to get a string which is n (non-negative integer) copies of a given string."
   ]
  },
  {
   "cell_type": "code",
   "execution_count": 23,
   "id": "50c3f787",
   "metadata": {},
   "outputs": [
    {
     "name": "stdout",
     "output_type": "stream",
     "text": [
      " saketsaket\n",
      " kumarkumar\n",
      " bangalore,bangalore,bangalore,bangalore,bangalore,\n"
     ]
    }
   ],
   "source": [
    "def new_string(str,n):\n",
    "    result=\" \"\n",
    "    for i in range(n):\n",
    "        result=result + str\n",
    "    return result\n",
    "print(new_string(\"saket\",2))\n",
    "print(new_string(\"kumar\",2))\n",
    "print(new_string(\"bangalore\" \",\",5))\n",
    "    \n",
    "    "
   ]
  },
  {
   "cell_type": "markdown",
   "id": "eb099b2e",
   "metadata": {},
   "source": [
    "13.Write a Python program to find whether a given number (accept from the user) is even or odd, \n",
    "print out an appropriate message to the user"
   ]
  },
  {
   "cell_type": "code",
   "execution_count": 30,
   "id": "456b0db6",
   "metadata": {},
   "outputs": [
    {
     "name": "stdout",
     "output_type": "stream",
     "text": [
      "Enter the number :55\n",
      "Number is odd \n"
     ]
    }
   ],
   "source": [
    "Number=int(input(\"Enter the number :\" ))\n",
    "rem= Number%2\n",
    "if rem >0:\n",
    "    print(\"Number is odd \")\n",
    "else :\n",
    "    print(\"Number is even \")"
   ]
  },
  {
   "cell_type": "markdown",
   "id": "3d7d0dee",
   "metadata": {},
   "source": [
    "14.Write a Python program to count the number 4 in a given list."
   ]
  },
  {
   "cell_type": "code",
   "execution_count": 33,
   "id": "90ccb7b5",
   "metadata": {},
   "outputs": [
    {
     "name": "stdout",
     "output_type": "stream",
     "text": [
      "3\n"
     ]
    }
   ],
   "source": [
    "def list_number4(nums):\n",
    "    count=0\n",
    "    for num in nums:\n",
    "        if num==4:\n",
    "            count=count+1\n",
    "    return count\n",
    "print(list_number4([1,43,5,4,7,8,4,5,4]))"
   ]
  },
  {
   "cell_type": "markdown",
   "id": "7475d55d",
   "metadata": {},
   "source": [
    "15.Write a Python program to test whether a passed letter is a vowel or not."
   ]
  },
  {
   "cell_type": "code",
   "execution_count": 37,
   "id": "45097722",
   "metadata": {},
   "outputs": [
    {
     "name": "stdout",
     "output_type": "stream",
     "text": [
      "False\n",
      "True\n"
     ]
    }
   ],
   "source": [
    "def vowel_test(char):\n",
    "    all_vowels='aeiou'\n",
    "    return char in all_vowels\n",
    "print(vowel_test('d'))\n",
    "print(vowel_test('a'))\n",
    "    "
   ]
  },
  {
   "cell_type": "markdown",
   "id": "96028100",
   "metadata": {},
   "source": [
    "# "
   ]
  }
 ],
 "metadata": {
  "kernelspec": {
   "display_name": "Python 3",
   "language": "python",
   "name": "python3"
  },
  "language_info": {
   "codemirror_mode": {
    "name": "ipython",
    "version": 3
   },
   "file_extension": ".py",
   "mimetype": "text/x-python",
   "name": "python",
   "nbconvert_exporter": "python",
   "pygments_lexer": "ipython3",
   "version": "3.8.8"
  }
 },
 "nbformat": 4,
 "nbformat_minor": 5
}
